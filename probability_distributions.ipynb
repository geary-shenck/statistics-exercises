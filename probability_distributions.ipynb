{
 "cells": [
  {
   "cell_type": "code",
   "execution_count": 16,
   "metadata": {},
   "outputs": [],
   "source": [
    "import matplotlib.pyplot as plt\n",
    "import numpy as np\n",
    "import pandas as pd\n",
    "from scipy import stats"
   ]
  },
  {
   "cell_type": "markdown",
   "metadata": {},
   "source": [
    "A bank found that the average number of cars waiting during the noon hour at a drive-up window follows a Poisson distribution with a mean of 2 cars. Make a chart of this distribution and answer these questions concerning the probability of cars waiting at the drive-up window.\n",
    "\n",
    "What is the probability that no cars drive up in the noon hour?\n",
    "\n",
    "What is the probability that 3 or more cars come through the drive through?\n",
    "\n",
    "How likely is it that the drive through gets at least 1 car?"
   ]
  },
  {
   "cell_type": "code",
   "execution_count": 22,
   "metadata": {},
   "outputs": [
    {
     "data": {
      "image/png": "[encoded data removed]",
      "text/plain": [
       "<Figure size 432x288 with 1 Axes>"
      ]
     },
     "metadata": {
      "needs_background": "light"
     },
     "output_type": "display_data"
    }
   ],
   "source": [
    "λ = 2\n",
    "drive_through = stats.poisson(λ)\n",
    "x = np.arange(0,10)\n",
    "y = drive_through.pmf(x)\n",
    "plt.bar(x,y)\n",
    "plt.xlabel('No of drives though')\n",
    "plt.ylabel('P(X)')\n",
    "plt.title('Poisson distribution $λ = 2$');"
   ]
  },
  {
   "cell_type": "code",
   "execution_count": 23,
   "metadata": {},
   "outputs": [
    {
     "name": "stdout",
     "output_type": "stream",
     "text": [
      "13.53 % no cars\n",
      "32.33 % 3 or more cars\n",
      "86.47 % at least 1 car\n"
     ]
    }
   ],
   "source": [
    "print(round(drive_through.pmf(0)*100,2), \"% no cars\")\n",
    "print(round(drive_through.sf((3)-1)*100,2), \"% 3 or more cars\")\n",
    "print(round(drive_through.sf((1)-1)*100,2), \"% at least 1 car\")"
   ]
  },
  {
   "cell_type": "code",
   "execution_count": 21,
   "metadata": {},
   "outputs": [
    {
     "name": "stdout",
     "output_type": "stream",
     "text": [
      "0.134831\n",
      "0.322924\n",
      "0.86477\n"
     ]
    }
   ],
   "source": [
    "print((drive_through.rvs(1_000_000) == 0).mean())\n",
    "print((drive_through.rvs(1_000_000) >= 3).mean())\n",
    "print((drive_through.rvs(1_000_000) >= 1).mean())"
   ]
  },
  {
   "cell_type": "markdown",
   "metadata": {},
   "source": [
    "Grades of State University graduates are normally distributed with a mean of 3.0 and a standard deviation of .3. Calculate the following:\n",
    "\n",
    "What grade point average is required to be in the top 5% of the graduating class?\n",
    "\n",
    "What GPA constitutes the bottom 15% of the class?\n",
    "\n",
    "An eccentric alumnus left scholarship money for students in the third decile from the bottom of their class. Determine the range of the third decile. Would a student with a 2.8 grade point average qualify for this scholarship?\n",
    "\n",
    "If I have a GPA of 3.5, what percentile am I in?"
   ]
  },
  {
   "cell_type": "code",
   "execution_count": 33,
   "metadata": {},
   "outputs": [],
   "source": [
    "grades_mean = 3\n",
    "grades_std = .3\n",
    "grades = stats.norm(grades_mean,grades_std)"
   ]
  },
  {
   "cell_type": "code",
   "execution_count": 34,
   "metadata": {},
   "outputs": [
    {
     "name": "stdout",
     "output_type": "stream",
     "text": [
      ">= 3.49 gpa to be in the top 5%\n",
      "<= 2.69 gpa to be in the bottom 15%\n",
      "2.75 > x < 2.84 gpa to be in the 3rd decile (20%-30%) \n",
      "2.8 would fall within this range\n",
      "0.95 percentile for 3.5GPA\n"
     ]
    }
   ],
   "source": [
    "print(\">=\", round(grades.ppf(.95),2), \"gpa to be in the top 5%\")\n",
    "# grades.isf(.05)\n",
    "print(\"<=\", round(grades.ppf(.15),2), \"gpa to be in the bottom 15%\")\n",
    "print(round(grades.ppf(.2),2),\"> x <\", round(grades.ppf(.3),2), \n",
    "# range_of_gpa = grades.ppf([.2,.3])\n",
    "# (range_of_gpa[0] < 2.8) and  (range_of_gpa[1] > 2.8)\n",
    "\"gpa to be in the 3rd decile (20%-30%) \\n2.8 would fall within this range\")\n",
    "print(round(grades.cdf(3.5),2), \"percentile for 3.5GPA\")\n",
    "# grade."
   ]
  },
  {
   "cell_type": "markdown",
   "metadata": {},
   "source": [
    "A marketing website has an average click-through rate of 2%. One day they observe 4326 visitors and 97 click-throughs. How likely is it that this many people or more click through?"
   ]
  },
  {
   "cell_type": "code",
   "execution_count": 51,
   "metadata": {},
   "outputs": [
    {
     "data": {
      "text/plain": [
       "0.1353352832366127"
      ]
     },
     "execution_count": 51,
     "metadata": {},
     "output_type": "execute_result"
    }
   ],
   "source": [
    "λ = 2\n",
    "click_through = stats.poisson(λ)\n",
    "click_through.cdf((97)/4326)"
   ]
  },
  {
   "cell_type": "code",
   "execution_count": 52,
   "metadata": {},
   "outputs": [
    {
     "data": {
      "text/plain": [
       "0.13975823631416445"
      ]
     },
     "execution_count": 52,
     "metadata": {},
     "output_type": "execute_result"
    }
   ],
   "source": [
    "#from class review\n",
    "n_trials = 4326\n",
    "probablity = .02\n",
    "click_dist = stats.binom(n_trials,probablity)\n",
    "click_dist.sf(97-1)"
   ]
  },
  {
   "cell_type": "markdown",
   "metadata": {},
   "source": [
    "You are working on some statistics homework consisting of 100 questions where all of the answers are a probability rounded to the hundreths place. Looking to save time, you put down random probabilities as the answer to each question.\n",
    "\n",
    "What is the probability that at least one of your first 60 answers is correct?"
   ]
  },
  {
   "cell_type": "code",
   "execution_count": 50,
   "metadata": {},
   "outputs": [
    {
     "data": {
      "text/plain": [
       "0.45284335760923855"
      ]
     },
     "execution_count": 50,
     "metadata": {},
     "output_type": "execute_result"
    }
   ],
   "source": [
    "correct_guess = stats.binom(60,.01)\n",
    "correct_guess.sf(0)"
   ]
  },
  {
   "cell_type": "markdown",
   "metadata": {},
   "source": [
    "The codeup staff tends to get upset when the student break area is not cleaned up. Suppose that there's a 3% chance that any one student cleans the break area when they visit it, and, on any given day, about 90% of the 3 active cohorts of 22 students visit the break area. \n",
    "\n",
    "How likely is it that the break area gets cleaned up each day? How likely is it that it goes two days without getting cleaned up? All week?"
   ]
  },
  {
   "cell_type": "code",
   "execution_count": 56,
   "metadata": {},
   "outputs": [
    {
     "name": "stdout",
     "output_type": "stream",
     "text": [
      "83.62 % chance of cleaning 1 day\n",
      "40.89 % chance of cleaning everyday all week\n"
     ]
    },
    {
     "data": {
      "text/plain": [
       "<BarContainer object of 10 artists>"
      ]
     },
     "execution_count": 56,
     "metadata": {},
     "output_type": "execute_result"
    },
    {
     "data": {
      "image/png": "[encoded data removed]",
      "text/plain": [
       "<Figure size 432x288 with 1 Axes>"
      ]
     },
     "metadata": {
      "needs_background": "light"
     },
     "output_type": "display_data"
    }
   ],
   "source": [
    "upset_staff = stats.binom((.9*3*22),.03)\n",
    "print(round(upset_staff.sf(0)*100,2),\"% chance of cleaning 1 day\")\n",
    "## wrong - print(round((upset_staff.sf(0)**5)*100,2),\"% chance of cleaning everyday all week\")\n",
    "## wrong - print(round((upset_staff.sf(1)**5)*100,2),\"% chance for 2 days no clean\")\n",
    "#stats.binom((.9*3*22)*2,.03).pmf(0) # for 2 days no clean\n",
    "#stats.binom((.9*3*22)*5,.03).pmf(0) # for 5 days no clean\n",
    "x = np.arange(0,10)\n",
    "y = stats.binom((.9*3*22),.03).pmf(x)\n",
    "plt.bar(x,y)"
   ]
  },
  {
   "cell_type": "markdown",
   "metadata": {},
   "source": [
    "You want to get lunch at La Panaderia, but notice that the line is usually very long at lunchtime. After several weeks of careful observation, you notice that the average number of people in line when your lunch break starts is \n",
    "normally distributed with a mean of 15 and standard deviation of 3. \n",
    "\n",
    "If it takes 2 minutes for each person to order, and 10 minutes from ordering to getting your food, what is the likelihood that you have at least 15 minutes left to eat your food before you have to go back to class? Assume you have one hour for lunch, and ignore travel time to and from La Panaderia."
   ]
  },
  {
   "cell_type": "code",
   "execution_count": 58,
   "metadata": {},
   "outputs": [
    {
     "name": "stdout",
     "output_type": "stream",
     "text": [
      "33 minutes avail to wait in line\n",
      "69.15 % chance of being able to eat food in time\n"
     ]
    }
   ],
   "source": [
    "line_ppl_mean = 15\n",
    "line_ppl_std = 3\n",
    "# create a scipy object/instance of this distribution\n",
    "line_ppl = stats.norm(line_ppl_mean,line_ppl_std)\n",
    "person_order_time = 2\n",
    "food_prep = 10\n",
    "eat_time = 15\n",
    "ttl_time = 60\n",
    "max_avail_time = ttl_time - eat_time - food_prep - 2 #the hardcoded 2 is 2 minutes for me to order\n",
    "print(round(max_avail_time,2), \"minutes avail to wait in line\")\n",
    "ppl_max_wait = max_avail_time/person_order_time\n",
    "print(round(line_ppl.cdf(ppl_max_wait)*100,2), \"% chance of being able to eat food in time\")"
   ]
  },
  {
   "cell_type": "markdown",
   "metadata": {},
   "source": [
    "Connect to the employees database and find the average salary of current employees, along with the standard deviation. For the following questions, calculate the answer based on modeling the employees salaries with a normal distribution defined by the calculated mean and standard deviation then compare this answer to the actual values present in the salaries dataset.\n",
    "\n",
    "What percent of employees earn less than 60,000?\n",
    "\n",
    "What percent of employees earn more than 95,000?\n",
    "\n",
    "What percent of employees earn between 65,000 and 80,000?\n",
    "\n",
    "What do the top 5% of employees make?\n"
   ]
  },
  {
   "cell_type": "code",
   "execution_count": 60,
   "metadata": {},
   "outputs": [],
   "source": [
    "from get_db_url import get_db_url \n",
    "import env\n",
    "host = env.host\n",
    "username = env.username\n",
    "password = env.password\n",
    "url = get_db_url(username,host,password,\"employees\")\n",
    "sql = '''\n",
    "SELECT\n",
    "    *\n",
    "FROM employees\n",
    "'''\n",
    "employees_df = pd.read_sql(sql, url)\n",
    "sql5 = '''\n",
    "SELECT\n",
    "    *\n",
    "FROM salaries\n",
    "'''\n",
    "salaries_df = pd.read_sql(sql5, url)\n",
    "employees_df=pd.merge(employees_df,salaries_df,on=\"emp_no\",how=\"inner\")"
   ]
  },
  {
   "cell_type": "code",
   "execution_count": 61,
   "metadata": {},
   "outputs": [
    {
     "name": "stdout",
     "output_type": "stream",
     "text": [
      "27.06 % earn less than 60,000\n",
      "10.86 % earn more than 95,000\n",
      "32.51 % earn betweekn 65k and 80k\n",
      "113408.82 mean of top 5%\n"
     ]
    }
   ],
   "source": [
    "current_employees_df = employees_df[(employees_df[\"to_date\"] == employees_df.to_date.max())]\n",
    "print(round((current_employees_df.salary < 60_000).mean()*100,2), \"% earn less than 60,000\")\n",
    "print(round((current_employees_df.salary > 95_000).mean()*100,2), \"% earn more than 95,000\")\n",
    "print(round((\n",
    "            (current_employees_df.salary < 80_000) \n",
    "            & \n",
    "            (current_employees_df.salary > 65_000)\n",
    "            ).mean()*100,2), \"% earn betweekn 65k and 80k\")\n",
    "print(round((current_employees_df.salary.nlargest(int(len(current_employees_df)*.05)).mean()),2),\"mean of top 5%\")"
   ]
  },
  {
   "cell_type": "code",
   "execution_count": 62,
   "metadata": {},
   "outputs": [
    {
     "name": "stdout",
     "output_type": "stream",
     "text": [
      "17310.0 emp stand dev \n",
      " 72012.24 emp mean\n",
      "24.39 % more than 95k\n",
      "9.21 % more than 95k\n",
      "34.0 % between 65k and 80k\n",
      "100484.64 bottom of the wage top 5%\n"
     ]
    }
   ],
   "source": [
    "emp_std = (current_employees_df.salary.std())\n",
    "emp_avg = (current_employees_df.salary.mean())\n",
    "print(round(emp_std,2),\"emp stand dev \\n\",round(emp_avg,2),\"emp mean\")\n",
    "emp_sal = stats.norm(emp_avg,emp_std)\n",
    "print(round(emp_sal.cdf( 60000 ) * 100, 2),\"% more than 95k\")\n",
    "print(round(emp_sal.sf( 95000 ) * 100, 2),\"% more than 95k\")\n",
    "print(round((emp_sal.cdf(80000) - emp_sal.cdf(65000)),2) * 100,\"% between 65k and 80k\")\n",
    "# np.diff(empl_sal.cdf([65000,80000]))\n",
    "print(round((emp_sal.ppf(.95)),2),\"bottom of the wage top 5%\")\n"
   ]
  },
  {
   "cell_type": "markdown",
   "metadata": {},
   "source": [
    "- value -> probability  \n",
    "   -- pmf: probability at a particular value of random variable (only for discrete distributions!)  \n",
    "    -- pdf: probability at a particular value of random variable (for continuous distributions)  \n",
    "   -- cdf: cumulative probablity for less than or equal to value of random variable     \n",
    "   -- sf:  probability for a random variable **greater than** certain value\n",
    "- probability -> value  \n",
    "   -- ppf: less than or equal to a point   \n",
    "   -- isf: greater than a point  \n",
    "- rvs for random values "
   ]
  }
 ],
 "metadata": {
  "kernelspec": {
   "display_name": "Python 3.9.12 ('base')",
   "language": "python",
   "name": "python3"
  },
  "language_info": {
   "codemirror_mode": {
    "name": "ipython",
    "version": 3
   },
   "file_extension": ".py",
   "mimetype": "text/x-python",
   "name": "python",
   "nbconvert_exporter": "python",
   "pygments_lexer": "ipython3",
   "version": "3.9.12"
  },
  "orig_nbformat": 4,
  "vscode": {
   "interpreter": {
    "hash": "3067ead486e059ec00ffe7555bdb889e6e264a24dc711bf108106cc7baee8d5d"
   }
  }
 },
 "nbformat": 4,
 "nbformat_minor": 2
}
