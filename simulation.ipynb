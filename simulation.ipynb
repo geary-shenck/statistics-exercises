{
 "cells": [
  {
   "cell_type": "code",
   "execution_count": 2,
   "metadata": {},
   "outputs": [],
   "source": [
    "%matplotlib inline\n",
    "import numpy as np\n",
    "import pandas as pd\n",
    "import viz\n",
    "np.random.seed(29)"
   ]
  },
  {
   "cell_type": "markdown",
   "metadata": {},
   "source": [
    "How likely is it that you roll doubles when rolling two dice?"
   ]
  },
  {
   "cell_type": "code",
   "execution_count": 18,
   "metadata": {},
   "outputs": [
    {
     "data": {
      "text/plain": [
       "0.16649"
      ]
     },
     "execution_count": 18,
     "metadata": {},
     "output_type": "execute_result"
    }
   ],
   "source": [
    "#2/12 == 1/6 == .1666\n",
    "outcomes = [1,2,3,4,5,6]\n",
    "n_simulations = 100_000\n",
    "n_dice = 2\n",
    "die_rolls = np.random.choice(outcomes,(n_simulations,n_dice))\n",
    "df = pd.DataFrame(die_rolls)\n",
    "len( df[ (df[0] == df[1]) ]) / len(df)"
   ]
  },
  {
   "cell_type": "markdown",
   "metadata": {},
   "source": [
    "\n",
    "If you flip 8 coins, what is the probability of getting exactly 3 heads? What is the probability of getting more than 3 heads?"
   ]
  },
  {
   "cell_type": "code",
   "execution_count": 35,
   "metadata": {},
   "outputs": [
    {
     "name": "stdout",
     "output_type": "stream",
     "text": [
      "0.22106 3 head exact\n",
      "0.63303 more than 3 heads\n"
     ]
    }
   ],
   "source": [
    "#    5/8\n",
    "outcomes = [\"H\",\"T\"]\n",
    "n_simulations = 100_000\n",
    "n_coins = 8\n",
    "coin_flips = np.random.choice(outcomes,(n_simulations,n_coins))\n",
    "head_count = (coin_flips == \"H\").sum(axis=1) #does the sum per \"column\" (simulation), axis can be 0 or 1 for columns or rows (r0w,co1umn)\n",
    "print((head_count == 3).mean(), \"3 head exact\")\n",
    "print((head_count > 3).mean(), \"more than 3 heads\")"
   ]
  },
  {
   "cell_type": "markdown",
   "metadata": {},
   "source": [
    "There are approximitely 3 web development cohorts for every 1 data science cohort at Codeup. Assuming that Codeup randomly selects an alumni to put on a billboard, what are the odds that the two billboards I drive past both have data science students on them?"
   ]
  },
  {
   "cell_type": "code",
   "execution_count": 78,
   "metadata": {},
   "outputs": [
    {
     "name": "stdout",
     "output_type": "stream",
     "text": [
      "0.06252\n"
     ]
    }
   ],
   "source": [
    "# 1/4 * 1/4 = 1/16\n",
    "outcomes = [\"WD\",\"WD\",\"WD\",\"DS\"]\n",
    "n_simulations = 100_000\n",
    "n_billboards = 2\n",
    "billboard_array = np.random.choice(outcomes,(n_simulations,n_billboards))\n",
    "DS_Student = (billboard_array == \"DS\").sum(axis=1) #does the sum per \"column\" (simulation), axis can be 0 or 1 for columns or rows (r0w,co1umn)\n",
    "print((DS_Student == 2).mean())"
   ]
  },
  {
   "cell_type": "code",
   "execution_count": 399,
   "metadata": {},
   "outputs": [
    {
     "name": "stdout",
     "output_type": "stream",
     "text": [
      "0.06255\n"
     ]
    }
   ],
   "source": [
    "#from class\n",
    "outcomes = [\"WD\",\"DS\"]\n",
    "n_simulations = 100_000\n",
    "n_billboards = 2\n",
    "bill_board = np.random.choice(outcomes,(n_simulations,n_billboards),p=[0.75 , 0.25])\n",
    "DS_Student = (bill_board == \"DS\").sum(axis=1) #does the sum per \"column\" (simulation), axis can be 0 or 1 for columns or rows (r0w,co1umn)\n",
    "print((DS_Student == 2).mean())"
   ]
  },
  {
   "cell_type": "markdown",
   "metadata": {},
   "source": [
    "Codeup students buy, on average, 3 poptart packages with a standard deviation of 1.5 a day from the snack vending machine. If on monday the machine is restocked with 17 poptart packages, how likely is it that I will be able to buy some poptarts on Friday afternoon? (Remember, if you have mean and standard deviation, use the np.random.normal) You'll need to make a judgement call on how to handle some of your values"
   ]
  },
  {
   "cell_type": "code",
   "execution_count": 160,
   "metadata": {},
   "outputs": [
    {
     "data": {
      "text/plain": [
       "0.61617"
      ]
     },
     "execution_count": 160,
     "metadata": {},
     "output_type": "execute_result"
    }
   ],
   "source": [
    "std_poptart = 1.5\n",
    "mean_poptart = 3\n",
    "n_trials = 5 #5 days in week\n",
    "n_simulations = 100_000\n",
    "poptart_usage = np.random.normal(mean_poptart,std_poptart,(n_simulations,n_trials))\n",
    "any_poptarts_left_on_friday = ((17 - poptart_usage.sum(axis=1)) >= 1)\n",
    "any_poptarts_left_on_friday.mean()"
   ]
  },
  {
   "cell_type": "code",
   "execution_count": 401,
   "metadata": {},
   "outputs": [
    {
     "data": {
      "text/plain": [
       "0.7229"
      ]
     },
     "execution_count": 401,
     "metadata": {},
     "output_type": "execute_result"
    }
   ],
   "source": [
    "#from class\n",
    "mean = 3\n",
    "sd = 1.5\n",
    "n_days = 5\n",
    "poptarts_bought_per_day = np.random.normal(mean,sd,size=(n_simulations,n_days))\n",
    "poptarts_bought_per_week = poptarts_bought_per_day.sum(axis=1)\n",
    "(poptarts_bought_per_week < 17).mean()"
   ]
  },
  {
   "cell_type": "markdown",
   "metadata": {},
   "source": [
    "Compare Heights\n",
    "Men have an average height of 178 cm and standard deviation of 8cm.\n",
    "Women have a mean of 170, sd = 6cm.\n",
    "Since you have means and standard deviations, you can use np.random.normal to generate observations.\n",
    "\n",
    "If a man and woman are chosen at random, what is the likelihood the woman is taller than the man?"
   ]
  },
  {
   "cell_type": "code",
   "execution_count": 403,
   "metadata": {},
   "outputs": [
    {
     "data": {
      "text/plain": [
       "0.21106"
      ]
     },
     "execution_count": 403,
     "metadata": {},
     "output_type": "execute_result"
    }
   ],
   "source": [
    "std_men = 8\n",
    "mean_men = 178\n",
    "std_women = 6\n",
    "mean_women = 170\n",
    "n_instances = 1\n",
    "n_simulations = 100_000\n",
    "women_heights = (np.random.normal(mean_women,std_women,(n_simulations,n_instances)))\n",
    "men_heights = (np.random.normal(mean_men,std_men,(n_simulations,n_instances)))\n",
    "\n",
    "(women_heights > men_heights).mean()\n"
   ]
  },
  {
   "cell_type": "markdown",
   "metadata": {},
   "source": [
    "When installing anaconda on a student's computer, there's a 1 in 250 chance that the download is corrupted and the installation fails. What are the odds that after having 50 students download anaconda, no one has an installation issue? 100 students?"
   ]
  },
  {
   "cell_type": "code",
   "execution_count": 226,
   "metadata": {},
   "outputs": [
    {
     "name": "stdout",
     "output_type": "stream",
     "text": [
      "81.64 % chance of no failures @ 50 \n",
      "\n",
      "67.062 % chance of no failures @ 100\n"
     ]
    }
   ],
   "source": [
    "corrupt_install = (1/250)\n",
    "n_students = 50\n",
    "n_simulations = 100_000\n",
    "data = np.random.random((n_simulations,n_students))\n",
    "failures = (data <= corrupt_install).sum(axis=1)\n",
    "#print(pd.Series(failures).value_counts(),\"\\n\")\n",
    "print(((failures == 0).mean() *100),\"% chance of no failures @ 50 \\n\")\n",
    "\n",
    "corrupt_install = (1/250)\n",
    "n_students = 100\n",
    "n_simulations = 100_000\n",
    "data = np.random.random((n_simulations,n_students))\n",
    "failures = (data <= corrupt_install).sum(axis=1)\n",
    "#print(pd.Series(failures).value_counts(),\"\\n\")\n",
    "print(((failures == 0).mean() *100),\"% chance of no failures @ 100\")"
   ]
  },
  {
   "cell_type": "code",
   "execution_count": 412,
   "metadata": {},
   "outputs": [
    {
     "name": "stdout",
     "output_type": "stream",
     "text": [
      "0.8183 success@50\n"
     ]
    }
   ],
   "source": [
    "## from class\n",
    "outcomes = [\"S\",\"F\"]\n",
    "n_students = 50\n",
    "downloads = np.random.choice(outcomes, (n_simulations,n_students), p=[(249/250),(1/250)])\n",
    "success = (downloads == \"S\").sum(axis=1)\n",
    "print((success == n_students).mean(), \"success@50\")\n"
   ]
  },
  {
   "cell_type": "markdown",
   "metadata": {},
   "source": [
    "What is the probability that we observe an installation issue within the first 150 students that download anaconda?"
   ]
  },
  {
   "cell_type": "code",
   "execution_count": 103,
   "metadata": {},
   "outputs": [
    {
     "name": "stdout",
     "output_type": "stream",
     "text": [
      "0    54612\n",
      "1    33103\n",
      "2     9965\n",
      "3     1975\n",
      "4      290\n",
      "5       51\n",
      "6        4\n",
      "dtype: int64 \n",
      "\n",
      "45.388 % chance of issue @ 150\n"
     ]
    }
   ],
   "source": [
    "corrupt_install = (1/250)\n",
    "n_students = 150\n",
    "n_simulations = 100_000\n",
    "data = np.random.random((n_simulations,n_students))\n",
    "failures = (data <= corrupt_install).sum(axis=1)\n",
    "print(pd.Series(failures).value_counts(),\"\\n\")\n",
    "print(((failures > 0).mean() *100),\"% chance of issue @ 150\")"
   ]
  },
  {
   "cell_type": "markdown",
   "metadata": {},
   "source": [
    "How likely is it that 450 students all download anaconda without an issue?"
   ]
  },
  {
   "cell_type": "code",
   "execution_count": 104,
   "metadata": {},
   "outputs": [
    {
     "name": "stdout",
     "output_type": "stream",
     "text": [
      "1     29746\n",
      "2     26788\n",
      "0     16473\n",
      "3     16067\n",
      "4      7288\n",
      "5      2625\n",
      "6       793\n",
      "7       169\n",
      "8        36\n",
      "9        11\n",
      "10        4\n",
      "dtype: int64 \n",
      "\n",
      "16.473 % without chance of failure @ 450\n"
     ]
    }
   ],
   "source": [
    "corrupt_install = (1/250)\n",
    "n_students = 450\n",
    "n_simulations = 100_000\n",
    "data = np.random.random((n_simulations,n_students))\n",
    "failures = (data <= corrupt_install).sum(axis=1)\n",
    "print(pd.Series(failures).value_counts(),\"\\n\")\n",
    "print(((failures == 0).mean() *100),\"% without chance of failure @ 450\")"
   ]
  },
  {
   "cell_type": "markdown",
   "metadata": {},
   "source": [
    "There's a 70% chance on any given day that there will be at least one food truck at Travis Park. However, you haven't seen a food truck there in 3 days. How unlikely is this?"
   ]
  },
  {
   "cell_type": "code",
   "execution_count": 418,
   "metadata": {},
   "outputs": [
    {
     "name": "stdout",
     "output_type": "stream",
     "text": [
      "0     2807\n",
      "1    18894\n",
      "2    44268\n",
      "3    34031\n",
      "dtype: int64 \n",
      "\n",
      "2.807 % chance of no Food truck within 3 days\n"
     ]
    }
   ],
   "source": [
    "food_truck = (70/100)\n",
    "n_days = 3\n",
    "n_simulations = 100_000\n",
    "random_chance = np.random.random((n_simulations,n_days))\n",
    "food_truck_arrived = (random_chance <= food_truck).sum(axis=1)\n",
    "print(pd.Series(food_truck_arrived).value_counts().sort_index(),\"\\n\")\n",
    "print(((food_truck_arrived == 0).mean() *100),\"% chance of no Food truck within\",n_days, \"days\")"
   ]
  },
  {
   "cell_type": "markdown",
   "metadata": {},
   "source": [
    "How likely is it that a food truck will show up sometime this week?"
   ]
  },
  {
   "cell_type": "code",
   "execution_count": 417,
   "metadata": {},
   "outputs": [
    {
     "name": "stdout",
     "output_type": "stream",
     "text": [
      "0       30\n",
      "1      366\n",
      "2     2529\n",
      "3     9882\n",
      "4    22426\n",
      "5    31732\n",
      "6    24738\n",
      "7     8297\n",
      "dtype: int64 \n",
      "\n",
      "99.97 % chance of Food truck arriving within 7 days\n"
     ]
    }
   ],
   "source": [
    "food_truck = (70/100)\n",
    "n_days = 7\n",
    "n_simulations = 100_000\n",
    "random_chance = np.random.random((n_simulations,n_days))\n",
    "food_truck_arrived = (random_chance <= food_truck).sum(axis=1)\n",
    "print(pd.Series(food_truck_arrived).value_counts().sort_index(),\"\\n\")\n",
    "print(((food_truck_arrived > 0).mean() *100),\"% chance of Food truck arriving within\",n_days, \"days\")"
   ]
  },
  {
   "cell_type": "markdown",
   "metadata": {},
   "source": [
    "If 23 people are in the same room, what are the odds that two of them share a birthday? What if it's 20 people? 40?"
   ]
  },
  {
   "cell_type": "code",
   "execution_count": 166,
   "metadata": {},
   "outputs": [
    {
     "name": "stdout",
     "output_type": "stream",
     "text": [
      "50.791 % chance of matching birthdays with 23 students\n"
     ]
    }
   ],
   "source": [
    "days_in_year = (365)\n",
    "people_in_class = 23\n",
    "n_simulations = 100_000\n",
    "random_chance = np.random.random((n_simulations,people_in_class))\n",
    "student_birthday_df = pd.DataFrame((random_chance * days_in_year).astype(int))\n",
    "print(((student_birthday_df.nunique(axis=1) < people_in_class ).mean() *100),\"% chance of matching birthdays with\",people_in_class, \"students\")\n"
   ]
  },
  {
   "cell_type": "code",
   "execution_count": 396,
   "metadata": {},
   "outputs": [
    {
     "name": "stdout",
     "output_type": "stream",
     "text": [
      "89.201 % chance of matching birthdays with 40 students\n"
     ]
    }
   ],
   "source": [
    "days_in_year = (365)\n",
    "people_in_class = 40\n",
    "n_simulations = 100_000\n",
    "random_chance = np.random.random((n_simulations,people_in_class))\n",
    "student_birthday_df = pd.DataFrame((random_chance * days_in_year).astype(int))\n",
    "print(((student_birthday_df.nunique(axis=1) < people_in_class ).mean() *100),\"% chance of matching birthdays with\",people_in_class, \"students\")\n"
   ]
  },
  {
   "cell_type": "code",
   "execution_count": 431,
   "metadata": {},
   "outputs": [],
   "source": [
    "import ipywidgets as wg\n",
    "from ipywidgets import interact,interactive, fixed, interact_manual"
   ]
  },
  {
   "cell_type": "code",
   "execution_count": 446,
   "metadata": {},
   "outputs": [],
   "source": [
    "def percent_match_student(students):\n",
    "    outcomes = range(365)\n",
    "    n_simulations = 100_000\n",
    "    bill_board = np.random.choice(outcomes,(n_simulations,students))\n",
    "    return(round(((pd.DataFrame(bill_board).nunique(axis=1) < students).mean()*100),1),\"% chance of matching birthdays with\",students,\"students\")"
   ]
  },
  {
   "cell_type": "code",
   "execution_count": 447,
   "metadata": {},
   "outputs": [
    {
     "data": {
      "application/vnd.jupyter.widget-view+json": {
       "model_id": "b7075b943e1b4a3eaddb7d04f1bee310",
       "version_major": 2,
       "version_minor": 0
      },
      "text/plain": [
       "interactive(children=(IntSlider(value=23, description='students', max=69, min=-23), Output()), _dom_classes=('…"
      ]
     },
     "metadata": {},
     "output_type": "display_data"
    }
   ],
   "source": [
    "interact(percent_match_student,students=23);"
   ]
  },
  {
   "cell_type": "markdown",
   "metadata": {},
   "source": [
    "Mage Duel!\n",
    "Let's use what we've learned to play a mage duel!\n",
    "\n",
    "Imagine your wizard has 6d4 health points and you have spells that do 6d4 damage. \"6d4\" means rolling six 4-sided dice and summing the result.\n",
    "\n",
    "Your opposing mage has 4d6 health points and spells that do 4d6. \"4d6\" means rolling four six-sided dice and summing the result.\n",
    "\n",
    "Exercises\n",
    "Simulate mage duels to answer who is the more powerful mage?\n",
    "\n",
    "Before running simulations, do you have a hypothesis of which mage will win? Do you have a hunch? Write it down. This is your first exercise.\n",
    "Simulate 10 mage duels. Is there a clear winner? Run that 10 duel simulation again. Was the answer similar?\n",
    "Do the results change much at 100 duels?\n",
    "Now, simulate 10,000 mage duels. Is there a clear winner?"
   ]
  },
  {
   "cell_type": "code",
   "execution_count": 288,
   "metadata": {},
   "outputs": [
    {
     "name": "stdout",
     "output_type": "stream",
     "text": [
      "my mage lived @ 10? =  False\n",
      "my mage lived @ 100? =  True\n",
      "my mage lived @ 1000? =  True\n",
      "win ratio is  0.54553\n"
     ]
    }
   ],
   "source": [
    "# i would expect the enemy to win due to higher range at same %\n",
    "\n",
    "d6 = [1,2,3,4,5,6]\n",
    "d4 = [1,2,3,4]\n",
    "\n",
    "n_simulations = 100_000\n",
    "\n",
    "my_mage_health = (np.random.choice(d4,(n_simulations,6))).sum(axis=1).tolist()\n",
    "my_mage_spells = (np.random.choice(d4,(n_simulations,6))).sum(axis=1).tolist()\n",
    "\n",
    "enemy_mage_health = (np.random.choice(d6,(n_simulations,4))).sum(axis=1).tolist()\n",
    "enemy_mage_spells = (np.random.choice(d6,(n_simulations,4))).sum(axis=1).tolist()\n",
    "\n",
    "results = pd.DataFrame({\"my_mage_health\":my_mage_health,\"my_mage_spells\":my_mage_spells,\"enemy_mage_health\":enemy_mage_health,\"enemy_mage_spells\":enemy_mage_spells})\n",
    "\n",
    "results[\"my_mage_lives\"] = ((results[\"my_mage_health\"] - results[\"enemy_mage_spells\"]) > 0)\n",
    "results[\"enemy_mage_lives\"] = ((results[\"enemy_mage_health\"] - results[\"my_mage_spells\"]) > 0)\n",
    "print(\"my mage lived @ 10? = \",(results[\"my_mage_lives\"].sample(10).sum() > results[\"enemy_mage_lives\"].sample(10).sum()))\n",
    "print(\"my mage lived @ 100? = \",(results[\"my_mage_lives\"].sample(100).sum() > results[\"enemy_mage_lives\"].sample(100).sum()))\n",
    "print(\"my mage lived @ 1000? = \",(results[\"my_mage_lives\"].sample(1000).sum() > results[\"enemy_mage_lives\"].sample(1000).sum()))\n",
    "print(\"win ratio is \", results[\"my_mage_lives\"].mean())\n",
    "\n",
    "#apparently consistency is key, i would be the \"Clear\" winner"
   ]
  },
  {
   "cell_type": "markdown",
   "metadata": {},
   "source": [
    "Simulating Chuck a Luck\n",
    "\"Pay a Buck and Chuck-a-Luck\"\n",
    "Chuck-a-Luck is a game of chance often associated with charity fundraisers or street gambling rather than casinos.\n",
    "\n",
    "To play, the House says, \"Pay $1, pick a number and roll 3 dice. If any of those dice come up, you'll win $1, $2, or $3\".\n",
    "\n",
    "\"It's even odds\", they say, \"because the probability of rolling your number is 1/6 and you get to roll 3 dice! 1/6 + 1/6 + 1/6 is 3/6 which is 1/2\".\n",
    "\n",
    "You know better than this, so it's time to make an experiment to approximate the actual risk and payoff...\n",
    "\n",
    "Rules:\n",
    "\n",
    "The player pays $1 to play and picks a number.\n",
    "\n",
    "The House rolls 3 dice at once.\n",
    "\n",
    "Payouts:\n",
    "\n",
    "$3 if all three dice match the chosen number\n",
    "$2 if exactly two dice match the chosen number\n",
    "$1 is exactly one of the dice matches the chosen number\n",
    "If none of the dice match the player's chosen number, then the House keeps the $1.\n",
    "Exercises:\n",
    "\n",
    "What are your chances of getting an outcome payout of $2? (where we earned $3 on the $1 ante)\n",
    "\n",
    "What are your chances of getting an payout of $1?\n",
    "\n",
    "What are your chances of getting a payout of $0 where you ante $1 and win $1?\n",
    "\n",
    "What are your chances of getting a payout of -$1 where you ante up, but don't win anything?\n",
    "\n",
    "What is the average cost/gain per game? (think of averaging the total payout calculation across all simulations)\n",
    "\n",
    "Chart out a histogram of all the outcomes of those 1,000,000 games\n",
    "\n",
    "Is this really a fair game of 1/6 + 1/6 + 1/6 odds?\n",
    "\n",
    "If you play 1,000,000 games in a row, what are your winnings/losses?"
   ]
  },
  {
   "cell_type": "code",
   "execution_count": 317,
   "metadata": {},
   "outputs": [
    {
     "name": "stdout",
     "output_type": "stream",
     "text": [
      "any 0.42204   single 0.34839   double 0.06909   triple 0.00456\n",
      "$2 payout - triple match 0.46 %\n",
      "$1 payout - double match 6.91 %\n",
      "$0 payout - single match 34.84 %\n",
      "$-1 payout - losing chance 57.8 %\n"
     ]
    }
   ],
   "source": [
    "outcomes = [1,2,3,4,5,6]\n",
    "n_simulations = 100_000\n",
    "n_trials = 3\n",
    "random_choice_match = np.random.randint(1,6)\n",
    "die_rolls = np.random.choice(outcomes,(n_simulations,n_trials))\n",
    "look_for_match = ((die_rolls == random_choice_match).sum(axis=1))\n",
    "any_match = (look_for_match > 0).mean()\n",
    "single_match = (look_for_match == 1).mean()\n",
    "double_match = (look_for_match == 2).mean()\n",
    "triple_match = (look_for_match == 3).mean()\n",
    "gambling_rolls = pd.DataFrame(die_rolls)\n",
    "print(\"any\",any_match,\"  single\",single_match,\"  double\",double_match,\"  triple\",triple_match)\n",
    "print(\"$2 payout - triple match\",round(triple_match*100,2),\"%\")\n",
    "print(\"$1 payout - double match\",round(double_match*100,2),\"%\")\n",
    "print(\"$0 payout - single match\",round(single_match*100,2),\"%\")\n",
    "print(\"$-1 payout - losing chance\",round((1-any_match)*100,2),\"%\")"
   ]
  },
  {
   "cell_type": "code",
   "execution_count": 397,
   "metadata": {},
   "outputs": [
    {
     "name": "stdout",
     "output_type": "stream",
     "text": [
      "matches on random for 3 by 6 sided die AxesSubplot(0.125,0.125;0.775x0.755)\n"
     ]
    },
    {
     "data": {
      "image/png": "[encoded data removed]",
      "text/plain": [
       "<Figure size 432x288 with 1 Axes>"
      ]
     },
     "metadata": {
      "needs_background": "light"
     },
     "output_type": "display_data"
    }
   ],
   "source": [
    "gambling_rolls[\"match_count\"] = (\n",
    "                                (gambling_rolls[0] == random_choice_match).astype(int)+ \n",
    "                                (gambling_rolls[1] == random_choice_match).astype(int)+\n",
    "                                (gambling_rolls[2] == random_choice_match).astype(int)\n",
    "                                )\n",
    "print(\"matches on random for 3 by 6 sided die\",(gambling_rolls[\"match_count\"]).hist())\n",
    "\n"
   ]
  },
  {
   "cell_type": "code",
   "execution_count": null,
   "metadata": {},
   "outputs": [],
   "source": [
    "#no it is not a fair game of 1/6+1/6+1/6 odds (50%), losing chance of no match is 57.8%\n",
    "#after 1,000,000 games your losses would be (1,000,000 * .578 =) a loss of 578,000 (still retain 422,000)"
   ]
  }
 ],
 "metadata": {
  "kernelspec": {
   "display_name": "Python 3.9.12 ('base')",
   "language": "python",
   "name": "python3"
  },
  "language_info": {
   "codemirror_mode": {
    "name": "ipython",
    "version": 3
   },
   "file_extension": ".py",
   "mimetype": "text/x-python",
   "name": "python",
   "nbconvert_exporter": "python",
   "pygments_lexer": "ipython3",
   "version": "3.9.12"
  },
  "orig_nbformat": 4,
  "vscode": {
   "interpreter": {
    "hash": "3067ead486e059ec00ffe7555bdb889e6e264a24dc711bf108106cc7baee8d5d"
   }
  }
 },
 "nbformat": 4,
 "nbformat_minor": 2
}
