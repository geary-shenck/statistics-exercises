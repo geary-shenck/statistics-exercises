{
 "cells": [
  {
   "cell_type": "code",
   "execution_count": 2,
   "metadata": {},
   "outputs": [],
   "source": [
    "%matplotlib inline\n",
    "import numpy as np\n",
    "import pandas as pd\n",
    "import viz\n",
    "np.random.seed(29)"
   ]
  },
  {
   "cell_type": "markdown",
   "metadata": {},
   "source": [
    "How likely is it that you roll doubles when rolling two dice?"
   ]
  },
  {
   "cell_type": "code",
   "execution_count": 18,
   "metadata": {},
   "outputs": [
    {
     "data": {
      "text/plain": [
       "0.16649"
      ]
     },
     "execution_count": 18,
     "metadata": {},
     "output_type": "execute_result"
    }
   ],
   "source": [
    "#2/12 == 1/6 == .1666\n",
    "outcomes = [1,2,3,4,5,6]\n",
    "n_simulations = 100_000\n",
    "n_trials = 2\n",
    "die_rolls = np.random.choice(outcomes,(n_simulations,n_trials))\n",
    "df = pd.DataFrame(die_rolls)\n",
    "len( df[ (df[0] == df[1]) ]) / len(df)"
   ]
  },
  {
   "cell_type": "markdown",
   "metadata": {},
   "source": [
    "\n",
    "If you flip 8 coins, what is the probability of getting exactly 3 heads? What is the probability of getting more than 3 heads?"
   ]
  },
  {
   "cell_type": "code",
   "execution_count": 35,
   "metadata": {},
   "outputs": [
    {
     "name": "stdout",
     "output_type": "stream",
     "text": [
      "0.22106 3 head exact\n",
      "0.63303 more than 3 heads\n"
     ]
    }
   ],
   "source": [
    "#    5/8\n",
    "outcomes = [\"H\",\"T\"]\n",
    "n_simulations = 100_000\n",
    "n_trials = 8\n",
    "coin_flips = np.random.choice(outcomes,(n_simulations,n_trials))\n",
    "head_count = (coin_flips == \"H\").sum(axis=1) #does the sum per \"column\" (simulation), axis can be 0 or 1 for columns or rows (r0w,co1umn)\n",
    "print((head_count == 3).mean(), \"3 head exact\")\n",
    "print((head_count > 3).mean(), \"more than 3 heads\")"
   ]
  },
  {
   "cell_type": "markdown",
   "metadata": {},
   "source": [
    "There are approximitely 3 web development cohorts for every 1 data science cohort at Codeup. Assuming that Codeup randomly selects an alumni to put on a billboard, what are the odds that the two billboards I drive past both have data science students on them?"
   ]
  },
  {
   "cell_type": "code",
   "execution_count": 78,
   "metadata": {},
   "outputs": [
    {
     "name": "stdout",
     "output_type": "stream",
     "text": [
      "0.06252\n"
     ]
    }
   ],
   "source": [
    "# 1/4 * 1/4 = 1/16\n",
    "outcomes = [\"WD\",\"WD\",\"WD\",\"DS\"]\n",
    "n_simulations = 100_000\n",
    "n_trials = 2\n",
    "bill_board = np.random.choice(outcomes,(n_simulations,n_trials))\n",
    "DS_Student = (bill_board == \"DS\").sum(axis=1) #does the sum per \"column\" (simulation), axis can be 0 or 1 for columns or rows (r0w,co1umn)\n",
    "print((DS_Student == 2).mean())"
   ]
  },
  {
   "cell_type": "markdown",
   "metadata": {},
   "source": [
    "Codeup students buy, on average, 3 poptart packages with a standard deviation of 1.5 a day from the snack vending machine. If on monday the machine is restocked with 17 poptart packages, how likely is it that I will be able to buy some poptarts on Friday afternoon? (Remember, if you have mean and standard deviation, use the np.random.normal) You'll need to make a judgement call on how to handle some of your values"
   ]
  },
  {
   "cell_type": "code",
   "execution_count": 160,
   "metadata": {},
   "outputs": [
    {
     "data": {
      "text/plain": [
       "0.61617"
      ]
     },
     "execution_count": 160,
     "metadata": {},
     "output_type": "execute_result"
    }
   ],
   "source": [
    "std_poptart = 1.5\n",
    "mean_poptart = 3\n",
    "n_trials = 5 #5 days in week\n",
    "n_simulations = 100_000\n",
    "poptart_usage = np.random.normal(mean_poptart,std_poptart,(n_simulations,n_trials))\n",
    "any_poptarts_left_on_friday = ((17 - poptart_usage.sum(axis=1)) >= 1)\n",
    "any_poptarts_left_on_friday.mean()"
   ]
  },
  {
   "cell_type": "markdown",
   "metadata": {},
   "source": [
    "Compare Heights\n",
    "Men have an average height of 178 cm and standard deviation of 8cm.\n",
    "Women have a mean of 170, sd = 6cm.\n",
    "Since you have means and standard deviations, you can use np.random.normal to generate observations.\n",
    "\n",
    "If a man and woman are chosen at random, what is the likelihood the woman is taller than the man?"
   ]
  },
  {
   "cell_type": "code",
   "execution_count": 77,
   "metadata": {},
   "outputs": [
    {
     "data": {
      "text/plain": [
       "0.21036"
      ]
     },
     "execution_count": 77,
     "metadata": {},
     "output_type": "execute_result"
    }
   ],
   "source": [
    "std_men = 8\n",
    "mean_men = 178\n",
    "std_women = 6\n",
    "mean_women = 170\n",
    "n_instances = 1\n",
    "n_simulations = 100_000\n",
    "women_heights = (np.random.normal(mean_women,std_women,(n_simulations,n_instances)))\n",
    "men_heights = (np.random.normal(mean_men,std_men,(n_simulations,n_instances)))\n",
    "\n",
    "(women_heights > men_heights).mean()\n"
   ]
  },
  {
   "cell_type": "markdown",
   "metadata": {},
   "source": [
    "When installing anaconda on a student's computer, there's a 1 in 250 chance that the download is corrupted and the installation fails. What are the odds that after having 50 students download anaconda, no one has an installation issue? 100 students?"
   ]
  },
  {
   "cell_type": "code",
   "execution_count": 99,
   "metadata": {},
   "outputs": [
    {
     "name": "stdout",
     "output_type": "stream",
     "text": [
      "0    81659\n",
      "1    16597\n",
      "2     1635\n",
      "3      101\n",
      "4        7\n",
      "5        1\n",
      "dtype: int64 \n",
      "\n",
      "81.659 % chance of no failures @ 50 \n",
      " \n",
      "\n",
      "0    67293\n",
      "1    26544\n",
      "2     5403\n",
      "3      684\n",
      "4       70\n",
      "5        6\n",
      "dtype: int64 \n",
      "\n",
      "67.293 % chance of no failures @ 100\n"
     ]
    }
   ],
   "source": [
    "corrupt_install = (1/250)\n",
    "n_students = 50\n",
    "n_simulations = 100_000\n",
    "data = np.random.random((n_simulations,n_students))\n",
    "failures = (data <= corrupt_install).sum(axis=1)\n",
    "print(pd.Series(failures).value_counts(),\"\\n\")\n",
    "print(((failures == 0).mean() *100),\"% chance of no failures @ 50 \\n \\n\")\n",
    "\n",
    "corrupt_install = (1/250)\n",
    "n_students = 100\n",
    "n_simulations = 100_000\n",
    "data = np.random.random((n_simulations,n_students))\n",
    "failures = (data <= corrupt_install).sum(axis=1)\n",
    "print(pd.Series(failures).value_counts(),\"\\n\")\n",
    "print(((failures == 0).mean() *100),\"% chance of no failures @ 100\")"
   ]
  },
  {
   "cell_type": "markdown",
   "metadata": {},
   "source": [
    "What is the probability that we observe an installation issue within the first 150 students that download anaconda?"
   ]
  },
  {
   "cell_type": "code",
   "execution_count": 103,
   "metadata": {},
   "outputs": [
    {
     "name": "stdout",
     "output_type": "stream",
     "text": [
      "0    54612\n",
      "1    33103\n",
      "2     9965\n",
      "3     1975\n",
      "4      290\n",
      "5       51\n",
      "6        4\n",
      "dtype: int64 \n",
      "\n",
      "45.388 % chance of issue @ 150\n"
     ]
    }
   ],
   "source": [
    "corrupt_install = (1/250)\n",
    "n_students = 150\n",
    "n_simulations = 100_000\n",
    "data = np.random.random((n_simulations,n_students))\n",
    "failures = (data <= corrupt_install).sum(axis=1)\n",
    "print(pd.Series(failures).value_counts(),\"\\n\")\n",
    "print(((failures > 0).mean() *100),\"% chance of issue @ 150\")"
   ]
  },
  {
   "cell_type": "markdown",
   "metadata": {},
   "source": [
    "How likely is it that 450 students all download anaconda without an issue?"
   ]
  },
  {
   "cell_type": "code",
   "execution_count": 104,
   "metadata": {},
   "outputs": [
    {
     "name": "stdout",
     "output_type": "stream",
     "text": [
      "1     29746\n",
      "2     26788\n",
      "0     16473\n",
      "3     16067\n",
      "4      7288\n",
      "5      2625\n",
      "6       793\n",
      "7       169\n",
      "8        36\n",
      "9        11\n",
      "10        4\n",
      "dtype: int64 \n",
      "\n",
      "16.473 % without chance of failure @ 450\n"
     ]
    }
   ],
   "source": [
    "corrupt_install = (1/250)\n",
    "n_students = 450\n",
    "n_simulations = 100_000\n",
    "data = np.random.random((n_simulations,n_students))\n",
    "failures = (data <= corrupt_install).sum(axis=1)\n",
    "print(pd.Series(failures).value_counts(),\"\\n\")\n",
    "print(((failures == 0).mean() *100),\"% without chance of failure @ 450\")"
   ]
  },
  {
   "cell_type": "markdown",
   "metadata": {},
   "source": [
    "There's a 70% chance on any given day that there will be at least one food truck at Travis Park. However, you haven't seen a food truck there in 3 days. How unlikely is this?"
   ]
  },
  {
   "cell_type": "code",
   "execution_count": 115,
   "metadata": {},
   "outputs": [
    {
     "name": "stdout",
     "output_type": "stream",
     "text": [
      "2    43980\n",
      "3    34318\n",
      "1    18994\n",
      "0     2708\n",
      "dtype: int64 \n",
      "\n",
      "2.708 % chance of no Food truck within 3 days\n"
     ]
    }
   ],
   "source": [
    "food_truck = (70/100)\n",
    "n_days = 3\n",
    "n_simulations = 100_000\n",
    "random_chance = np.random.random((n_simulations,n_days))\n",
    "food_truck_arrived = (random_chance <= food_truck).sum(axis=1)\n",
    "print(pd.Series(food_truck_arrived).value_counts(),\"\\n\")\n",
    "print(((food_truck_arrived == 0).mean() *100),\"% chance of no Food truck within\",n_days, \"days\")"
   ]
  },
  {
   "cell_type": "markdown",
   "metadata": {},
   "source": [
    "How likely is it that a food truck will show up sometime this week?"
   ]
  },
  {
   "cell_type": "code",
   "execution_count": 116,
   "metadata": {},
   "outputs": [
    {
     "name": "stdout",
     "output_type": "stream",
     "text": [
      "5    31838\n",
      "6    24570\n",
      "4    22733\n",
      "3     9783\n",
      "7     8183\n",
      "2     2507\n",
      "1      352\n",
      "0       34\n",
      "dtype: int64 \n",
      "\n",
      "99.966 % chance of Food truck arriving within 7 days\n"
     ]
    }
   ],
   "source": [
    "food_truck = (70/100)\n",
    "n_days = 7\n",
    "n_simulations = 100_000\n",
    "random_chance = np.random.random((n_simulations,n_days))\n",
    "food_truck_arrived = (random_chance <= food_truck).sum(axis=1)\n",
    "print(pd.Series(food_truck_arrived).value_counts(),\"\\n\")\n",
    "print(((food_truck_arrived > 0).mean() *100),\"% chance of Food truck arriving within\",n_days, \"days\")"
   ]
  },
  {
   "cell_type": "markdown",
   "metadata": {},
   "source": [
    "If 23 people are in the same room, what are the odds that two of them share a birthday? What if it's 20 people? 40?"
   ]
  },
  {
   "cell_type": "code",
   "execution_count": 166,
   "metadata": {},
   "outputs": [
    {
     "name": "stdout",
     "output_type": "stream",
     "text": [
      "50.791 % chance of matching birthdays with 23 students\n"
     ]
    }
   ],
   "source": [
    "day_in_year = (1/365)\n",
    "people_in_class = 23\n",
    "n_simulations = 100_000\n",
    "random_chance = np.random.random((n_simulations,people_in_class))\n",
    "student_birthday_df = pd.DataFrame((random_chance * 365).astype(int))\n",
    "print(((student_birthday_df.nunique(axis=1) < people_in_class ).mean() *100),\"% chance of matching birthdays with\",people_in_class, \"students\")\n"
   ]
  },
  {
   "cell_type": "code",
   "execution_count": 167,
   "metadata": {},
   "outputs": [
    {
     "name": "stdout",
     "output_type": "stream",
     "text": [
      "41.315000000000005 % chance of matching birthdays with 20 students\n"
     ]
    }
   ],
   "source": [
    "day_in_year = (1/365)\n",
    "people_in_class = 20\n",
    "n_simulations = 100_000\n",
    "random_chance = np.random.random((n_simulations,people_in_class))\n",
    "student_birthday_df = pd.DataFrame((random_chance * 365).astype(int))\n",
    "print(((student_birthday_df.nunique(axis=1) < people_in_class ).mean() *100),\"% chance of matching birthdays with\",people_in_class, \"students\")\n"
   ]
  },
  {
   "cell_type": "code",
   "execution_count": 168,
   "metadata": {},
   "outputs": [
    {
     "name": "stdout",
     "output_type": "stream",
     "text": [
      "89.327 % chance of matching birthdays with 40 students\n"
     ]
    }
   ],
   "source": [
    "day_in_year = (1/365)\n",
    "people_in_class = 40\n",
    "n_simulations = 100_000\n",
    "random_chance = np.random.random((n_simulations,people_in_class))\n",
    "student_birthday_df = pd.DataFrame((random_chance * 365).astype(int))\n",
    "print(((student_birthday_df.nunique(axis=1) < people_in_class ).mean() *100),\"% chance of matching birthdays with\",people_in_class, \"students\")\n"
   ]
  }
 ],
 "metadata": {
  "kernelspec": {
   "display_name": "Python 3.9.12 ('base')",
   "language": "python",
   "name": "python3"
  },
  "language_info": {
   "codemirror_mode": {
    "name": "ipython",
    "version": 3
   },
   "file_extension": ".py",
   "mimetype": "text/x-python",
   "name": "python",
   "nbconvert_exporter": "python",
   "pygments_lexer": "ipython3",
   "version": "3.9.12"
  },
  "orig_nbformat": 4,
  "vscode": {
   "interpreter": {
    "hash": "3067ead486e059ec00ffe7555bdb889e6e264a24dc711bf108106cc7baee8d5d"
   }
  }
 },
 "nbformat": 4,
 "nbformat_minor": 2
}
