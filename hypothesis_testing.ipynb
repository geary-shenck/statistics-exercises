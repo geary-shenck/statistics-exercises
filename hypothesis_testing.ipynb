{
 "cells": [
  {
   "cell_type": "markdown",
   "metadata": {},
   "source": [
    "For each of the following questions, formulate a null and alternative hypothesis (be as specific as you can be), then give an example of what a true positive, true negative, type I and type II errors would look like. Note that some of the questions are intentionally phrased in a vague way. It is your job to reword these as more precise questions that could be tested.\n"
   ]
  },
  {
   "cell_type": "markdown",
   "metadata": {},
   "source": [
    "Has the network latency gone up since we switched internet service providers?\n",
    "- H0 - Network latency is NOT affected by switching service providers (status quo)\n",
    "- H1 - Network latency is affected by switching service providers\n",
    "- True Postive - latency is affected, and you recognize that correctly\n",
    "- True Negative - latency is unaffected, and you recognize that correctly\n",
    "- Type I error - latency is unaffected, but you interpret it as being affected\n",
    "- Type II error - latency is affected, but you interpret it as not being affected\n"
   ]
  },
  {
   "cell_type": "markdown",
   "metadata": {},
   "source": [
    "Is the website redesign any good?\n",
    "- H0 - website engagement has remained the same after redesign (status quo)\n",
    "- H1 - website engagement has changed after redesign\n",
    "- True Postive - website engagement changed\n",
    "- True Negative - website engagement remained the same\n",
    "- Type I error - website engagement remained the same, but you interpret a difference\n",
    "- Type II error - website engagement changed, but you do not validate that change"
   ]
  },
  {
   "cell_type": "markdown",
   "metadata": {},
   "source": [
    "Is our television ad driving more sales?\n",
    "- H0 - Television ad has no effect on sales (status quo)\n",
    "- H1 - Television ad has had an effect on sales\n",
    "- True Postive - TV ad had an effect on sales\n",
    "- True Negative - TV ad had no effect on sales\n",
    "- Type I error - TV ad had no effect on sales, but you show that it did\n",
    "- Type II error - TV ad had an effect on sales, but you don't support that"
   ]
  },
  {
   "cell_type": "code",
   "execution_count": 5,
   "metadata": {},
   "outputs": [],
   "source": [
    "import pandas as pd\n",
    "import numpy as np\n",
    "from scipy import stats\n",
    "import matplotlib as plt\n",
    "import seaborn as sns\n",
    "from pydataset import data"
   ]
  },
  {
   "cell_type": "markdown",
   "metadata": {},
   "source": [
    "Ace Realty wants to determine whether the average time it takes to sell homes is different for its two offices. A sample of 40 sales from office #1 revealed a mean of 90 days and a standard deviation of 15 days. A sample of 50 sales from office #2 revealed a mean of 100 days and a standard deviation of 20 days. Use a .05 level of significance."
   ]
  },
  {
   "cell_type": "code",
   "execution_count": 43,
   "metadata": {},
   "outputs": [
    {
     "name": "stdout",
     "output_type": "stream",
     "text": [
      "t=-2.62523, p=0.01021\n",
      "We reject the null Hypothesis and accept the alternative (office1 avg time != office2 avg time)\n"
     ]
    }
   ],
   "source": [
    "office1_sample = 40\n",
    "office1_mean = 90\n",
    "office1_std = 15\n",
    "\n",
    "office2_sample = 50\n",
    "office2_mean = 100\n",
    "office2_std = 20\n",
    "\n",
    "alpha = .05\n",
    "\n",
    "H0 = \"office1 avg time == office2 avg time\"\n",
    "H1 = \"office1 avg time != office2 avg time\"\n",
    "\n",
    "\n",
    "t,p = stats.ttest_ind_from_stats(mean1=office1_mean, std1=office1_std, nobs1=office1_sample,\n",
    "                    mean2=office2_mean, std2=office2_std, nobs2=office2_sample)\n",
    "print('t=%.5f, p=%.5f' % (t,p))\n",
    "if p > alpha: #no directionality, use the full p\n",
    "    print(\"We fail to reject the null hypothesis (\", H0,\")\")\n",
    "## no t test since directionality doesn't really play into this question\n",
    "else:\n",
    "     print(f\"We reject the null Hypothesis and accept the alternative ({H1})\")"
   ]
  },
  {
   "cell_type": "markdown",
   "metadata": {},
   "source": [
    "Load the mpg dataset and use it to answer the following questions:"
   ]
  },
  {
   "cell_type": "code",
   "execution_count": 3,
   "metadata": {},
   "outputs": [
    {
     "data": {
      "text/html": [
       "<div>\n",
       "<style scoped>\n",
       "    .dataframe tbody tr th:only-of-type {\n",
       "        vertical-align: middle;\n",
       "    }\n",
       "\n",
       "    .dataframe tbody tr th {\n",
       "        vertical-align: top;\n",
       "    }\n",
       "\n",
       "    .dataframe thead th {\n",
       "        text-align: right;\n",
       "    }\n",
       "</style>\n",
       "<table border=\"1\" class=\"dataframe\">\n",
       "  <thead>\n",
       "    <tr style=\"text-align: right;\">\n",
       "      <th></th>\n",
       "      <th>manufacturer</th>\n",
       "      <th>model</th>\n",
       "      <th>displ</th>\n",
       "      <th>year</th>\n",
       "      <th>cyl</th>\n",
       "      <th>trans</th>\n",
       "      <th>drv</th>\n",
       "      <th>cty</th>\n",
       "      <th>hwy</th>\n",
       "      <th>fl</th>\n",
       "      <th>class</th>\n",
       "    </tr>\n",
       "  </thead>\n",
       "  <tbody>\n",
       "    <tr>\n",
       "      <th>1</th>\n",
       "      <td>audi</td>\n",
       "      <td>a4</td>\n",
       "      <td>1.8</td>\n",
       "      <td>1999</td>\n",
       "      <td>4</td>\n",
       "      <td>auto(l5)</td>\n",
       "      <td>f</td>\n",
       "      <td>18</td>\n",
       "      <td>29</td>\n",
       "      <td>p</td>\n",
       "      <td>compact</td>\n",
       "    </tr>\n",
       "    <tr>\n",
       "      <th>2</th>\n",
       "      <td>audi</td>\n",
       "      <td>a4</td>\n",
       "      <td>1.8</td>\n",
       "      <td>1999</td>\n",
       "      <td>4</td>\n",
       "      <td>manual(m5)</td>\n",
       "      <td>f</td>\n",
       "      <td>21</td>\n",
       "      <td>29</td>\n",
       "      <td>p</td>\n",
       "      <td>compact</td>\n",
       "    </tr>\n",
       "    <tr>\n",
       "      <th>3</th>\n",
       "      <td>audi</td>\n",
       "      <td>a4</td>\n",
       "      <td>2.0</td>\n",
       "      <td>2008</td>\n",
       "      <td>4</td>\n",
       "      <td>manual(m6)</td>\n",
       "      <td>f</td>\n",
       "      <td>20</td>\n",
       "      <td>31</td>\n",
       "      <td>p</td>\n",
       "      <td>compact</td>\n",
       "    </tr>\n",
       "    <tr>\n",
       "      <th>4</th>\n",
       "      <td>audi</td>\n",
       "      <td>a4</td>\n",
       "      <td>2.0</td>\n",
       "      <td>2008</td>\n",
       "      <td>4</td>\n",
       "      <td>auto(av)</td>\n",
       "      <td>f</td>\n",
       "      <td>21</td>\n",
       "      <td>30</td>\n",
       "      <td>p</td>\n",
       "      <td>compact</td>\n",
       "    </tr>\n",
       "    <tr>\n",
       "      <th>5</th>\n",
       "      <td>audi</td>\n",
       "      <td>a4</td>\n",
       "      <td>2.8</td>\n",
       "      <td>1999</td>\n",
       "      <td>6</td>\n",
       "      <td>auto(l5)</td>\n",
       "      <td>f</td>\n",
       "      <td>16</td>\n",
       "      <td>26</td>\n",
       "      <td>p</td>\n",
       "      <td>compact</td>\n",
       "    </tr>\n",
       "  </tbody>\n",
       "</table>\n",
       "</div>"
      ],
      "text/plain": [
       "  manufacturer model  displ  year  cyl       trans drv  cty  hwy fl    class\n",
       "1         audi    a4    1.8  1999    4    auto(l5)   f   18   29  p  compact\n",
       "2         audi    a4    1.8  1999    4  manual(m5)   f   21   29  p  compact\n",
       "3         audi    a4    2.0  2008    4  manual(m6)   f   20   31  p  compact\n",
       "4         audi    a4    2.0  2008    4    auto(av)   f   21   30  p  compact\n",
       "5         audi    a4    2.8  1999    6    auto(l5)   f   16   26  p  compact"
      ]
     },
     "execution_count": 3,
     "metadata": {},
     "output_type": "execute_result"
    }
   ],
   "source": [
    "mpg_df = data(\"mpg\")\n",
    "mpg_df.head()"
   ]
  },
  {
   "cell_type": "code",
   "execution_count": 24,
   "metadata": {},
   "outputs": [
    {
     "name": "stdout",
     "output_type": "stream",
     "text": [
      "use equal_var = False stat=0.03107, p=0.86023\n",
      "1999 mean mpg=19.68, 2008 mean mpg=19.49\n",
      "t=0.30120, p=0.76354\n",
      "We fail to reject the null hypothesis ( 1999 mpg == 2008 mpg )\n"
     ]
    },
    {
     "name": "stderr",
     "output_type": "stream",
     "text": [
      "/usr/local/anaconda3/lib/python3.9/site-packages/seaborn/distributions.py:2619: FutureWarning: `distplot` is a deprecated function and will be removed in a future version. Please adapt your code to use either `displot` (a figure-level function with similar flexibility) or `histplot` (an axes-level function for histograms).\n",
      "  warnings.warn(msg, FutureWarning)\n",
      "/usr/local/anaconda3/lib/python3.9/site-packages/seaborn/distributions.py:2619: FutureWarning: `distplot` is a deprecated function and will be removed in a future version. Please adapt your code to use either `displot` (a figure-level function with similar flexibility) or `histplot` (an axes-level function for histograms).\n",
      "  warnings.warn(msg, FutureWarning)\n"
     ]
    },
    {
     "data": {
      "image/png": "[encoded data removed]",
      "text/plain": [
       "<Figure size 432x288 with 1 Axes>"
      ]
     },
     "metadata": {
      "needs_background": "light"
     },
     "output_type": "display_data"
    }
   ],
   "source": [
    "#Load the mpg dataset and use it to answer the following questions:\n",
    "\n",
    "#Is there a difference in fuel-efficiency in cars from 2008 vs 1999?\n",
    "H0 = \"1999 mpg == 2008 mpg\"\n",
    "H1 = \"1999 mpg != 2008 mpg\"\n",
    "mpg_df = data(\"mpg\")\n",
    "mpg_df[\"average_mileage\"] = (2/((1/mpg_df.hwy) + (1/mpg_df.cty)))\n",
    "\n",
    "avg_mpg_1999_series = (mpg_df[mpg_df[\"year\"] == 1999][\"average_mileage\"])\n",
    "avg_mpg_2008_series = (mpg_df[mpg_df[\"year\"] == 2008][\"average_mileage\"])\n",
    "\n",
    "alpha = .05\n",
    "\n",
    "#compare variances to know how to run the test\n",
    "stat,pval = stats.levene(avg_mpg_1999_series,avg_mpg_2008_series)\n",
    "stat,pval\n",
    "if pval > 0.05:\n",
    "    equal_var_flag = True\n",
    "    print(\"we can reject that there are equal variance in these two groups\",'stat=%.5f, p=%.5f' % (stat,pval))\n",
    "else:\n",
    "    equal_var_flag = False\n",
    "    print(\"use equal_var = False\",'stat=%.5f, p=%.5f' % (stat,pval))\n",
    "\n",
    "#graph it out\n",
    "ax = sns.distplot(avg_mpg_1999_series,label=\"avg_mpg_1999\")\n",
    "ax = sns.distplot(avg_mpg_2008_series,label=\"avg_mpg_2008\")\n",
    "ax.legend()\n",
    "ax.set_title(\"avg_mpg_1999 vs avg_mpg_2008\")\n",
    "\n",
    "print('1999 mean mpg=%.2f, 2008 mean mpg=%.2f' % (avg_mpg_1999_series.mean(),avg_mpg_2008_series.mean()))\n",
    "t, p = stats.ttest_ind( avg_mpg_1999_series , avg_mpg_2008_series , equal_var = equal_var_flag )\n",
    "print('t=%.5f, p=%.5f' % (t,p))\n",
    "if p > alpha: #no directionality, use the full p\n",
    "    print(\"We fail to reject the null hypothesis (\", H0,\")\")\n",
    "#elif t < 0: # would pass if alternative mean was less than the null mean ##i don't think directionality really matters\n",
    "    #print(\"We fail to reject the null hypothesis (\", H0,\")\")\n",
    "else:\n",
    "     print(\"We reject the null Hypothesis and accept the alternative (\", H1,\")\")\n"
   ]
  },
  {
   "cell_type": "code",
   "execution_count": 20,
   "metadata": {},
   "outputs": [
    {
     "name": "stdout",
     "output_type": "stream",
     "text": [
      "we can reject that there are equal variance in these two groups stat=0.43548, p=0.50997\n",
      "1999 mean mpg=23.55, 2008 mean mpg=17.45\n",
      "t=11.24643, p=0.00000\n",
      "We reject the null Hypothesis and accept the alternative ( compact mpg > standard mpg )\n"
     ]
    },
    {
     "name": "stderr",
     "output_type": "stream",
     "text": [
      "/usr/local/anaconda3/lib/python3.9/site-packages/seaborn/distributions.py:2619: FutureWarning: `distplot` is a deprecated function and will be removed in a future version. Please adapt your code to use either `displot` (a figure-level function with similar flexibility) or `histplot` (an axes-level function for histograms).\n",
      "  warnings.warn(msg, FutureWarning)\n",
      "/usr/local/anaconda3/lib/python3.9/site-packages/seaborn/distributions.py:2619: FutureWarning: `distplot` is a deprecated function and will be removed in a future version. Please adapt your code to use either `displot` (a figure-level function with similar flexibility) or `histplot` (an axes-level function for histograms).\n",
      "  warnings.warn(msg, FutureWarning)\n"
     ]
    },
    {
     "data": {
      "image/png": "[encoded data removed]",
      "text/plain": [
       "<Figure size 432x288 with 1 Axes>"
      ]
     },
     "metadata": {
      "needs_background": "light"
     },
     "output_type": "display_data"
    }
   ],
   "source": [
    "#Are compact cars more fuel-efficient than the average car?\n",
    "H0 = \"compact mpg <= standard mpg\"\n",
    "H1 = \"compact mpg > standard mpg\"\n",
    "mpg_df = data(\"mpg\")\n",
    "mpg_df[\"average_mileage\"] = (2/((1/mpg_df.hwy) + (1/mpg_df.cty)))\n",
    "\n",
    "avg_mpg_compact_series = (mpg_df[mpg_df[\"class\"].isin([\"compact\",\"subcompact\"])][\"average_mileage\"])\n",
    "avg_mpg_standard_series = (mpg_df[~mpg_df[\"class\"].isin([\"compact\",\"subcompact\"])][\"average_mileage\"])\n",
    "\n",
    "alpha = .05\n",
    "\n",
    "#compare variances to know how to run the test\n",
    "stat,pval = stats.levene(avg_mpg_compact_series,avg_mpg_standard_series)\n",
    "stat,pval\n",
    "if pval > .05:\n",
    "    equal_var_flag = True\n",
    "    print(\"look like there are equal variance in these two groups\",'stat=%.5f, p=%.5f' % (stat,pval))\n",
    "else:\n",
    "    equal_var_flag = False\n",
    "    print(\"use equal_var = False\",'stat=%.5f, p=%.5f' % (stat,pval))\n",
    "\n",
    "#graph it out\n",
    "ax = sns.distplot(avg_mpg_compact_series,label=\"avg_mpg_compact\")\n",
    "ax = sns.distplot(avg_mpg_standard_series,label=\"avg_mpg_standard\")\n",
    "ax.legend()\n",
    "ax.set_title(\"avg_mpg_compact vs avg_mpg_standard\")\n",
    "\n",
    "print('1999 mean mpg=%.2f, 2008 mean mpg=%.2f' % (avg_mpg_compact_series.mean(),avg_mpg_standard_series.mean()))\n",
    "\n",
    "t, p = stats.ttest_ind( avg_mpg_compact_series , avg_mpg_standard_series , equal_var = equal_var_flag )\n",
    "print('t=%.5f, p=%.5f' % (t,p))\n",
    "\n",
    "if p/2 > alpha: #no directionality, use the full p\n",
    "    print(\"We fail to reject the null hypothesis (\", H0,\")\")\n",
    "elif t < 0: # would pass if alternative mean was less than the null mean\n",
    "    print(\"We fail to reject the null hypothesis (\", H0,\")\")\n",
    "else:\n",
    "     print(\"We reject the null Hypothesis and accept the alternative (\", H1,\")\")"
   ]
  },
  {
   "cell_type": "code",
   "execution_count": 25,
   "metadata": {},
   "outputs": [
    {
     "name": "stdout",
     "output_type": "stream",
     "text": [
      "we can reject that there are equal variance in these two groups stat=0.01390, p=0.90625\n",
      "manual mean mpg=21.63, automatic mean mpg=18.58\n",
      "t=4.65258, p=0.00001\n",
      "We reject the null Hypothesis and accept the alternative ( manual mpg > automatic mpg )\n"
     ]
    },
    {
     "name": "stderr",
     "output_type": "stream",
     "text": [
      "/usr/local/anaconda3/lib/python3.9/site-packages/seaborn/distributions.py:2619: FutureWarning: `distplot` is a deprecated function and will be removed in a future version. Please adapt your code to use either `displot` (a figure-level function with similar flexibility) or `histplot` (an axes-level function for histograms).\n",
      "  warnings.warn(msg, FutureWarning)\n",
      "/usr/local/anaconda3/lib/python3.9/site-packages/seaborn/distributions.py:2619: FutureWarning: `distplot` is a deprecated function and will be removed in a future version. Please adapt your code to use either `displot` (a figure-level function with similar flexibility) or `histplot` (an axes-level function for histograms).\n",
      "  warnings.warn(msg, FutureWarning)\n"
     ]
    },
    {
     "data": {
      "image/png": "[encoded data removed]",
      "text/plain": [
       "<Figure size 432x288 with 1 Axes>"
      ]
     },
     "metadata": {
      "needs_background": "light"
     },
     "output_type": "display_data"
    }
   ],
   "source": [
    "#Do manual cars get better gas mileage than automatic cars?\n",
    "H0 = \"manual mpg <= automatic mpg\"\n",
    "H1 = \"manual mpg > automatic mpg\"\n",
    "mpg_df = data(\"mpg\")\n",
    "mpg_df[\"average_mileage\"] = (2/((1/mpg_df.hwy) + (1/mpg_df.cty)))\n",
    "\n",
    "avg_mpg_manual_series = (mpg_df[mpg_df[\"trans\"].isin([\"manual(m5)\", \"manual(m6)\"])][\"average_mileage\"])\n",
    "avg_mpg_automatic_series = (mpg_df[~mpg_df[\"trans\"].isin([\"manual(m5)\", \"manual(m6)\"])][\"average_mileage\"])\n",
    "\n",
    "alpha = .05\n",
    "\n",
    "#compare variances to know how to run the test\n",
    "stat,pval = stats.levene(avg_mpg_manual_series,avg_mpg_automatic_series)\n",
    "stat,pval\n",
    "if pval > .05:\n",
    "    equal_var_flag = True\n",
    "    print(\"we can reject that there are equal variance in these two groups\",'stat=%.5f, p=%.5f' % (stat,pval))\n",
    "else:\n",
    "    equal_var_flag = False\n",
    "    print(\"use equal_var = False\",'stat=%.5f, p=%.5f' % (stat,pval))\n",
    "\n",
    "#graph it out\n",
    "ax = sns.distplot(avg_mpg_manual_series,label=\"avg_mpg_manual\")\n",
    "ax = sns.distplot(avg_mpg_automatic_series,label=\"avg_mpg_automatic\")\n",
    "ax.legend()\n",
    "ax.set_title(\"avg_mpg_automatic vs avg_mpg_manual\")\n",
    "\n",
    "print('manual mean mpg=%.2f, automatic mean mpg=%.2f' % (avg_mpg_manual_series.mean(), avg_mpg_automatic_series.mean()))\n",
    "\n",
    "t, p = stats.ttest_ind( avg_mpg_manual_series , avg_mpg_automatic_series , equal_var = equal_var_flag )\n",
    "print('t=%.5f, p=%.5f' % (t,p))\n",
    "\n",
    "if p/2 > alpha: #no directionality, use the full p\n",
    "    print(\"We fail to reject the null hypothesis (\", H0,\")\")\n",
    "elif t < 0: # would pass if alternative mean was less than the null mean\n",
    "    print(\"We fail to reject the null hypothesis (\", H0,\")\")\n",
    "else:\n",
    "     print(\"We reject the null Hypothesis and accept the alternative (\", H1,\")\")"
   ]
  }
 ],
 "metadata": {
  "kernelspec": {
   "display_name": "Python 3.9.12 ('base')",
   "language": "python",
   "name": "python3"
  },
  "language_info": {
   "codemirror_mode": {
    "name": "ipython",
    "version": 3
   },
   "file_extension": ".py",
   "mimetype": "text/x-python",
   "name": "python",
   "nbconvert_exporter": "python",
   "pygments_lexer": "ipython3",
   "version": "3.9.12"
  },
  "orig_nbformat": 4,
  "vscode": {
   "interpreter": {
    "hash": "3067ead486e059ec00ffe7555bdb889e6e264a24dc711bf108106cc7baee8d5d"
   }
  }
 },
 "nbformat": 4,
 "nbformat_minor": 2
}
